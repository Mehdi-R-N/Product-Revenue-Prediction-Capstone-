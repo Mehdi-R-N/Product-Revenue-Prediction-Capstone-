{
 "cells": [
  {
   "cell_type": "markdown",
   "id": "7e6af546",
   "metadata": {},
   "source": [
    "# Implementing and Evaluating Linear Regression"
   ]
  },
  {
   "cell_type": "markdown",
   "id": "39c63a86",
   "metadata": {},
   "source": [
    "# Introduction"
   ]
  },
  {
   "cell_type": "markdown",
   "id": "cc7b39f1",
   "metadata": {},
   "source": [
    "In this phase of our analysis, our aim is to deploy and assess a Linear Regression model on our prepared dataset. The principal objective is to generate reliable predictions of sales revenue, specific to each product and, on a broader scale, each product category.\n",
    "Our first step involves separating our data into dependent and independent variables. In this scenario, our focus, or the 'target' variable, is 'sales_revenue'.\n",
    "Subsequently, we partition our dataset into distinctive training, testing, and validation subsets. Upon establishing a baseline model, we evaluate its performance employing various metrics such as Mean Absolute Error (MAE), Mean Squared Error (MSE), and Root Mean Squared Error (RMSE). We will also gauge the model's coefficient of determination (R-squared) on both training and validation sets.\n",
    "Further evaluation includes analyzing the model's residual patterns with the predicted values to check for homoscedasticity. We also scrutinize the residual Quantile-Quantile (QQ) plot for more insights into the model's predictive performance.\n",
    "Finally, we draw conclusions regarding the effectiveness of this model in accurately predicting our target variable, i.e., sales revenue."
   ]
  },
  {
   "cell_type": "code",
   "execution_count": 1,
   "id": "56502149",
   "metadata": {},
   "outputs": [],
   "source": [
    "# import the relevant libraries\n",
    "import numpy as np\n",
    "import pandas as pd\n",
    "from pandas import DataFrame\n",
    "from sklearn.model_selection import train_test_split\n",
    "from sklearn.pipeline import Pipeline\n",
    "from sklearn.compose import ColumnTransformer\n",
    "from sklearn.preprocessing import StandardScaler\n",
    "from sklearn.linear_model import LinearRegression\n",
    "from sklearn.metrics import r2_score\n",
    "from sklearn.metrics import mean_squared_error\n",
    "from sklearn import metrics\n",
    "import scipy.stats as stats\n",
    "from statsmodels.stats.stattools import durbin_watson"
   ]
  },
  {
   "cell_type": "markdown",
   "id": "318ed96f",
   "metadata": {},
   "source": [
    "We begin by loading our cleaned dataset, where irrelevant features have been removed. "
   ]
  },
  {
   "cell_type": "code",
   "execution_count": 2,
   "id": "440cd515",
   "metadata": {},
   "outputs": [
    {
     "data": {
      "text/html": [
       "<div>\n",
       "<style scoped>\n",
       "    .dataframe tbody tr th:only-of-type {\n",
       "        vertical-align: middle;\n",
       "    }\n",
       "\n",
       "    .dataframe tbody tr th {\n",
       "        vertical-align: top;\n",
       "    }\n",
       "\n",
       "    .dataframe thead th {\n",
       "        text-align: right;\n",
       "    }\n",
       "</style>\n",
       "<table border=\"1\" class=\"dataframe\">\n",
       "  <thead>\n",
       "    <tr style=\"text-align: right;\">\n",
       "      <th></th>\n",
       "      <th>product_id</th>\n",
       "      <th>item_price</th>\n",
       "      <th>freight_value</th>\n",
       "      <th>payment_sequential</th>\n",
       "      <th>payment_type</th>\n",
       "      <th>payment_installments</th>\n",
       "      <th>order_purchase_timestamp</th>\n",
       "      <th>review_score</th>\n",
       "      <th>postal_code</th>\n",
       "      <th>state</th>\n",
       "      <th>product_category_name</th>\n",
       "      <th>product_weight_g</th>\n",
       "      <th>product_length_cm</th>\n",
       "      <th>product_height_cm</th>\n",
       "      <th>product_width_cm</th>\n",
       "      <th>sales_revenue</th>\n",
       "    </tr>\n",
       "  </thead>\n",
       "  <tbody>\n",
       "    <tr>\n",
       "      <th>0</th>\n",
       "      <td>4244733e06e7ecb4970a6e2683c13e61</td>\n",
       "      <td>58.9</td>\n",
       "      <td>13.29</td>\n",
       "      <td>1</td>\n",
       "      <td>1</td>\n",
       "      <td>2</td>\n",
       "      <td>2017-09-13 08:59:00</td>\n",
       "      <td>5</td>\n",
       "      <td>28013</td>\n",
       "      <td>18</td>\n",
       "      <td>cool_stuff</td>\n",
       "      <td>650.0</td>\n",
       "      <td>28.0</td>\n",
       "      <td>9.0</td>\n",
       "      <td>14.0</td>\n",
       "      <td>58.9</td>\n",
       "    </tr>\n",
       "    <tr>\n",
       "      <th>1</th>\n",
       "      <td>4244733e06e7ecb4970a6e2683c13e61</td>\n",
       "      <td>55.9</td>\n",
       "      <td>17.96</td>\n",
       "      <td>1</td>\n",
       "      <td>0</td>\n",
       "      <td>1</td>\n",
       "      <td>2017-06-28 11:52:00</td>\n",
       "      <td>5</td>\n",
       "      <td>75800</td>\n",
       "      <td>8</td>\n",
       "      <td>cool_stuff</td>\n",
       "      <td>650.0</td>\n",
       "      <td>28.0</td>\n",
       "      <td>9.0</td>\n",
       "      <td>14.0</td>\n",
       "      <td>55.9</td>\n",
       "    </tr>\n",
       "    <tr>\n",
       "      <th>2</th>\n",
       "      <td>4244733e06e7ecb4970a6e2683c13e61</td>\n",
       "      <td>64.9</td>\n",
       "      <td>18.33</td>\n",
       "      <td>1</td>\n",
       "      <td>1</td>\n",
       "      <td>2</td>\n",
       "      <td>2018-05-18 10:25:00</td>\n",
       "      <td>4</td>\n",
       "      <td>30720</td>\n",
       "      <td>10</td>\n",
       "      <td>cool_stuff</td>\n",
       "      <td>650.0</td>\n",
       "      <td>28.0</td>\n",
       "      <td>9.0</td>\n",
       "      <td>14.0</td>\n",
       "      <td>64.9</td>\n",
       "    </tr>\n",
       "    <tr>\n",
       "      <th>3</th>\n",
       "      <td>4244733e06e7ecb4970a6e2683c13e61</td>\n",
       "      <td>58.9</td>\n",
       "      <td>16.17</td>\n",
       "      <td>1</td>\n",
       "      <td>1</td>\n",
       "      <td>3</td>\n",
       "      <td>2017-08-01 18:38:00</td>\n",
       "      <td>5</td>\n",
       "      <td>83070</td>\n",
       "      <td>17</td>\n",
       "      <td>cool_stuff</td>\n",
       "      <td>650.0</td>\n",
       "      <td>28.0</td>\n",
       "      <td>9.0</td>\n",
       "      <td>14.0</td>\n",
       "      <td>58.9</td>\n",
       "    </tr>\n",
       "    <tr>\n",
       "      <th>4</th>\n",
       "      <td>4244733e06e7ecb4970a6e2683c13e61</td>\n",
       "      <td>58.9</td>\n",
       "      <td>13.29</td>\n",
       "      <td>1</td>\n",
       "      <td>1</td>\n",
       "      <td>4</td>\n",
       "      <td>2017-08-10 21:48:00</td>\n",
       "      <td>5</td>\n",
       "      <td>36400</td>\n",
       "      <td>10</td>\n",
       "      <td>cool_stuff</td>\n",
       "      <td>650.0</td>\n",
       "      <td>28.0</td>\n",
       "      <td>9.0</td>\n",
       "      <td>14.0</td>\n",
       "      <td>58.9</td>\n",
       "    </tr>\n",
       "  </tbody>\n",
       "</table>\n",
       "</div>"
      ],
      "text/plain": [
       "                         product_id  item_price  freight_value  \\\n",
       "0  4244733e06e7ecb4970a6e2683c13e61        58.9          13.29   \n",
       "1  4244733e06e7ecb4970a6e2683c13e61        55.9          17.96   \n",
       "2  4244733e06e7ecb4970a6e2683c13e61        64.9          18.33   \n",
       "3  4244733e06e7ecb4970a6e2683c13e61        58.9          16.17   \n",
       "4  4244733e06e7ecb4970a6e2683c13e61        58.9          13.29   \n",
       "\n",
       "   payment_sequential  payment_type  payment_installments  \\\n",
       "0                   1             1                     2   \n",
       "1                   1             0                     1   \n",
       "2                   1             1                     2   \n",
       "3                   1             1                     3   \n",
       "4                   1             1                     4   \n",
       "\n",
       "  order_purchase_timestamp  review_score  postal_code  state  \\\n",
       "0      2017-09-13 08:59:00             5        28013     18   \n",
       "1      2017-06-28 11:52:00             5        75800      8   \n",
       "2      2018-05-18 10:25:00             4        30720     10   \n",
       "3      2017-08-01 18:38:00             5        83070     17   \n",
       "4      2017-08-10 21:48:00             5        36400     10   \n",
       "\n",
       "  product_category_name  product_weight_g  product_length_cm  \\\n",
       "0            cool_stuff             650.0               28.0   \n",
       "1            cool_stuff             650.0               28.0   \n",
       "2            cool_stuff             650.0               28.0   \n",
       "3            cool_stuff             650.0               28.0   \n",
       "4            cool_stuff             650.0               28.0   \n",
       "\n",
       "   product_height_cm  product_width_cm  sales_revenue  \n",
       "0                9.0              14.0           58.9  \n",
       "1                9.0              14.0           55.9  \n",
       "2                9.0              14.0           64.9  \n",
       "3                9.0              14.0           58.9  \n",
       "4                9.0              14.0           58.9  "
      ]
     },
     "execution_count": 2,
     "metadata": {},
     "output_type": "execute_result"
    }
   ],
   "source": [
    "# Load the data \n",
    "df = pd.read_csv('Olist_Final.csv')\n",
    "df.head()"
   ]
  },
  {
   "cell_type": "markdown",
   "id": "692c6bd1",
   "metadata": {},
   "source": [
    "## Data Scaling and Regression Analysis"
   ]
  },
  {
   "cell_type": "markdown",
   "id": "0b29c1cf",
   "metadata": {},
   "source": [
    "We then assign the data to variables X and Y. As we want 'product_id' to be one of our features to help predict on a product-by-product basis, we create a copy of it from X before dropping it from the variable.Next, we split the data into training and testing sets. The training data is further split into separate training and validation sets."
   ]
  },
  {
   "cell_type": "code",
   "execution_count": 3,
   "id": "125a7919",
   "metadata": {},
   "outputs": [],
   "source": [
    "# Assign the X features.\n",
    "X = df.drop(['sales_revenue', 'order_purchase_timestamp','product_category_name'], axis=1)\n",
    "\n",
    "# Assign 'sales_revenue' column as the target variable 'y'.\n",
    "y = df['sales_revenue']\n",
    "\n",
    "# Keep a copy of the Product ID for the test set before dropping from X\n",
    "X_Product_IDs = X['product_id'].copy()\n",
    "\n",
    "# Drop the Product ID from X\n",
    "X = X.drop('product_id', axis=1)\n",
    "\n",
    "# Split the data into train/test\n",
    "X_train_val, X_test, y_train_val, y_test = train_test_split(X, y, test_size=0.2, random_state=0)\n",
    "\n",
    "# Split train_val set into separate training and validation sets\n",
    "X_train, X_val, y_train, y_val = train_test_split(X_train_val, y_train_val, test_size=0.25, random_state=0)"
   ]
  },
  {
   "cell_type": "markdown",
   "id": "f1881a0d",
   "metadata": {},
   "source": [
    "In the subsequent step, we scale the data and combine preprocessing tasks into a pipeline. This pipeline is then used to train a linear regression model on the training set. Following this, we make predictions on the test set using the fitted model and generate a dataframe of predictions indexed by 'product_id'."
   ]
  },
  {
   "cell_type": "code",
   "execution_count": 4,
   "id": "99101892",
   "metadata": {},
   "outputs": [
    {
     "name": "stdout",
     "output_type": "stream",
     "text": [
      "                             product_id   Actual   Predicted\n",
      "79496  cf3aebf1fe742d73907fed51ead1945c   119.90  123.489185\n",
      "693    1fe8e6e01596885617fa1c90d29c2f81    81.56   99.475358\n",
      "18245  db0e75ba1fc6537d68f2676f3b67d07f   249.99  269.808143\n",
      "30359  41c24b8ce92d1a2cac62db5edfd088b2    99.90  116.281214\n",
      "63301  e0cf79767c5b016251fe139915c59a26    29.90   32.152265\n",
      "...                                 ...      ...         ...\n",
      "39731  e9def91e99c8ecb7c5cef5e31506a056    69.99   72.502745\n",
      "92284  06601c3059e35a3bf65e72f2fd2ac626   109.90  117.287292\n",
      "23099  26e253f334cf93847fcbf6e9faf51eb4   169.00  192.667937\n",
      "29587  ee3d532c8a438679776d222e997606b3  1200.00  131.106895\n",
      "28118  542b3d80712d51eefe3a3cd1c5f4e8fe    42.90   51.030007\n",
      "\n",
      "[23073 rows x 3 columns]\n"
     ]
    }
   ],
   "source": [
    "# Define preprocessing for numerical columns (scale them)\n",
    "numeric_features = X.select_dtypes(include=['int64', 'float64']).columns\n",
    "numeric_transformer = Pipeline(steps=[\n",
    "    ('scaler', StandardScaler())\n",
    "])\n",
    "\n",
    "# Combine preprocessing steps\n",
    "preprocessor = ColumnTransformer(\n",
    "    transformers=[\n",
    "        ('num', numeric_transformer, numeric_features)\n",
    "    ])\n",
    "\n",
    "# Create preprocessing and training pipeline\n",
    "pipeline = Pipeline(steps=[\n",
    "    ('preprocessor', preprocessor),\n",
    "    ('regressor', LinearRegression())\n",
    "])\n",
    "\n",
    "# Fit the pipeline to train a linear regression model on the training set\n",
    "pipeline.fit(X_train, y_train)\n",
    "\n",
    "# Make predictions on the test set using the fitted model\n",
    "y_pred_test = pipeline.predict(X_test)\n",
    "\n",
    "# Create a DataFrame for the predictions, indexed by Product ID\n",
    "df_predictions = pd.DataFrame({\n",
    "    'product_id': X_Product_IDs.loc[X_test.index],\n",
    "    'Actual': y_test,\n",
    "    'Predicted': y_pred_test\n",
    "})\n",
    "\n",
    "print(df_predictions)"
   ]
  },
  {
   "cell_type": "markdown",
   "id": "7231c857",
   "metadata": {},
   "source": [
    "Now, we turn our attention to model evaluation. We consider the R-squared values for training, validation, and testing. As we observe, the model exhibits an R-squared value of approximately 85% for the training set, 66% for the validation set, and 82% for the test set. These metrics suggest our model has a reasonably good predictive capability."
   ]
  },
  {
   "cell_type": "code",
   "execution_count": 5,
   "id": "0719b6b0",
   "metadata": {},
   "outputs": [
    {
     "name": "stdout",
     "output_type": "stream",
     "text": [
      "Train R2 score:  0.856236659431715\n",
      "Validation R2 score:  0.6670402594514427\n",
      "Test R2 score:  0.8205693417304952\n"
     ]
    }
   ],
   "source": [
    "# Make predictions on the train, validation, and test sets\n",
    "y_pred_train = pipeline.predict(X_train)\n",
    "y_pred_val = pipeline.predict(X_val)\n",
    "y_pred_test = pipeline.predict(X_test)\n",
    "\n",
    "# Calculate R-squared scores\n",
    "r2_train = r2_score(y_train, y_pred_train)\n",
    "r2_val = r2_score(y_val, y_pred_val)\n",
    "r2_test = r2_score(y_test, y_pred_test)\n",
    "\n",
    "print('Train R2 score: ', r2_train)\n",
    "print('Validation R2 score: ', r2_val)\n",
    "print('Test R2 score: ', r2_test)"
   ]
  },
  {
   "cell_type": "markdown",
   "id": "8c7fd47d",
   "metadata": {},
   "source": [
    "Below, we evaluate the coefficients of different features. As we can see, 'item_price' has the highest coefficient value of 186.95, whereas 'review_score' has the lowest, at -6.95."
   ]
  },
  {
   "cell_type": "code",
   "execution_count": 6,
   "id": "c12a4b5c",
   "metadata": {},
   "outputs": [
    {
     "name": "stdout",
     "output_type": "stream",
     "text": [
      "                      Coefficient\n",
      "item_price             186.958715\n",
      "freight_value           -1.820749\n",
      "payment_sequential       1.771930\n",
      "payment_type            -3.995002\n",
      "payment_installments     5.665397\n",
      "review_score            -6.954469\n",
      "postal_code              0.472981\n",
      "state                    0.169272\n",
      "product_weight_g         3.295150\n",
      "product_length_cm        1.343022\n",
      "product_height_cm        2.442709\n",
      "product_width_cm        -1.386328\n",
      "Intercept              135.700846\n"
     ]
    },
    {
     "name": "stderr",
     "output_type": "stream",
     "text": [
      "C:\\Users\\Work&Study\\AppData\\Local\\Temp\\ipykernel_18952\\1603916518.py:5: FutureWarning: The frame.append method is deprecated and will be removed from pandas in a future version. Use pandas.concat instead.\n",
      "  coef_df = coef_df.append(pd.DataFrame([pipeline.named_steps['regressor'].intercept_], ['Intercept'], columns=['Coefficient']))\n"
     ]
    }
   ],
   "source": [
    "# Create a dataframe for the coefficients\n",
    "coef_df = pd.DataFrame(pipeline.named_steps['regressor'].coef_, X.columns, columns=['Coefficient'])\n",
    "\n",
    "# Append the intercept\n",
    "coef_df = coef_df.append(pd.DataFrame([pipeline.named_steps['regressor'].intercept_], ['Intercept'], columns=['Coefficient']))\n",
    "\n",
    "# Display the dataframe\n",
    "print(coef_df)"
   ]
  },
  {
   "cell_type": "markdown",
   "id": "ffbddc4d",
   "metadata": {},
   "source": [
    "Lastly, we evaluate the model's performance using metrics such as Mean Absolute Error (MAE), Mean Squared Error (MSE), and Root Mean Squared Error (RMSE). These metrics will provide additional insight into our model's predictive accuracy."
   ]
  },
  {
   "cell_type": "code",
   "execution_count": 7,
   "id": "f83316da",
   "metadata": {},
   "outputs": [
    {
     "name": "stdout",
     "output_type": "stream",
     "text": [
      "Mean Absolute Percentage Error (MAPE): 24.05%\n",
      "Mean Percentage Error (MPE): -12.55%\n",
      "Percentage Root Mean Squared Error (PRMSE): 65.79%\n",
      "Mean Absolute Error: 27.09516029120471\n",
      "Mean Squared Error: 8068.8150904377635\n",
      "Root Mean Squared Error: 89.82658342850274\n"
     ]
    }
   ],
   "source": [
    "# Calculate MAPE\n",
    "mape = np.mean(np.abs((y_test - y_pred_test) / y_test)) * 100\n",
    "\n",
    "# Calculate MPE\n",
    "mpe = np.mean((y_test - y_pred_test) / y_test) * 100\n",
    "\n",
    "# Calculate PRMSE\n",
    "prmse = (np.sqrt(np.mean((y_test - y_pred_test) ** 2)) / np.mean(y_test)) * 100\n",
    "\n",
    "# Print the metrics\n",
    "print(\"Mean Absolute Percentage Error (MAPE): {:.2f}%\".format(mape))\n",
    "print(\"Mean Percentage Error (MPE): {:.2f}%\".format(mpe))\n",
    "print(\"Percentage Root Mean Squared Error (PRMSE): {:.2f}%\".format(prmse))\n",
    "print('Mean Absolute Error:', metrics.mean_absolute_error(y_test, y_pred_test))  \n",
    "print('Mean Squared Error:', metrics.mean_squared_error(y_test, y_pred_test))  \n",
    "print('Root Mean Squared Error:', np.sqrt(metrics.mean_squared_error(y_test, y_pred_test)))"
   ]
  },
  {
   "cell_type": "markdown",
   "id": "34bc5341",
   "metadata": {},
   "source": [
    "The above evaluated, showed some areas for improvement. With a Mean Absolute Percentage Error (MAPE) of 24.05% and a Mean Percentage Error (MPE) of -12.55%, the model is on average approximately 24% off in its predictions and tends to underestimate the actual values. Additionally, the Mean Squared Error (MSE) and Root Mean Squared Error (RMSE) values of 8068.815 and 89.826 respectively suggest a high level of error in the model's predictions, pointing towards a need for further optimization and refinement of the model."
   ]
  },
  {
   "cell_type": "markdown",
   "id": "3215c2e8",
   "metadata": {},
   "source": [
    "In the following stage, we will visualize the residuals against the predicted values (homoscedasticity) to assess the distribution of our model's residuals. This step provides us with a more visual understanding of our model's performance."
   ]
  },
  {
   "cell_type": "code",
   "execution_count": 8,
   "id": "ab9b5d1b",
   "metadata": {},
   "outputs": [
    {
     "data": {
      "image/png": "[encoded data removed]",
      "text/plain": [
       "<Figure size 640x480 with 2 Axes>"
      ]
     },
     "metadata": {},
     "output_type": "display_data"
    }
   ],
   "source": [
    "residuals = y_test - y_pred_test\n",
    "\n",
    "# Plotting the residuals against the predicted values with color-coded data points\n",
    "import matplotlib.pyplot as plt\n",
    "plt.scatter(y_pred_test, residuals, alpha=0.5, c=residuals, cmap='coolwarm')\n",
    "plt.axhline(y=0, color='red', linestyle='--')  # Add a horizontal line at y=0\n",
    "plt.xlabel('Predicted Values')\n",
    "plt.ylabel('Residuals')\n",
    "plt.title('Residuals vs. Predicted Values (Homoscedasticity)')\n",
    "plt.colorbar(label='Residuals')  # Add a colorbar indicating the range of residuals\n",
    "plt.show()"
   ]
  },
  {
   "cell_type": "markdown",
   "id": "7b16b919",
   "metadata": {},
   "source": [
    "The above scatter plot indicates mixed results in our model's predictions. Some parts of the data appear to be predicted well, while others do not align as closely with the true values."
   ]
  },
  {
   "cell_type": "markdown",
   "id": "cc2cb0ca",
   "metadata": {},
   "source": [
    "Next, we will create a Quantile-Quantile (QQ) plot for the residuals. This plot is a graphical tool to help us understand if our residuals follow a normal distribution, an assumption underlying many statistical models."
   ]
  },
  {
   "cell_type": "code",
   "execution_count": 9,
   "id": "11dd9535",
   "metadata": {
    "scrolled": true
   },
   "outputs": [
    {
     "data": {
      "image/png": "[encoded data removed]",
      "text/plain": [
       "<Figure size 640x480 with 1 Axes>"
      ]
     },
     "metadata": {},
     "output_type": "display_data"
    }
   ],
   "source": [
    "stats.probplot(residuals, plot=plt)\n",
    "plt.title('Residuals QQ Plot')\n",
    "plt.show()"
   ]
  },
  {
   "cell_type": "markdown",
   "id": "a95060a3",
   "metadata": {},
   "source": [
    "From the QQ plot, we can discern that our model's residuals are not perfectly normally distributed, indicating that our model's predictions may not be optimal in certain areas."
   ]
  },
  {
   "cell_type": "markdown",
   "id": "2a63d801",
   "metadata": {},
   "source": [
    "# Conclusion"
   ]
  },
  {
   "cell_type": "markdown",
   "id": "f3ac6fff",
   "metadata": {},
   "source": [
    "After a comprehensive analysis and evaluation of our Linear Regression model, it's clear that while it exhibits strengths in some areas, it falls short in others. The model demonstrated decent predictive accuracy for certain sections of our data, but struggled to maintain this accuracy across the entire dataset.\n",
    "\n",
    "To conclude, our Linear Regression model, despite its partial successes, did not fully meet our predictive needs for this specific dataset. This highlights the need for further exploration of other modeling techniques that could offer improved predictive accuracy for our sales revenue data. This study's findings will inform our future efforts as we continue our search for the most appropriate and efficient predictive model."
   ]
  }
 ],
 "metadata": {
  "kernelspec": {
   "display_name": "Python 3 (ipykernel)",
   "language": "python",
   "name": "python3"
  },
  "language_info": {
   "codemirror_mode": {
    "name": "ipython",
    "version": 3
   },
   "file_extension": ".py",
   "mimetype": "text/x-python",
   "name": "python",
   "nbconvert_exporter": "python",
   "pygments_lexer": "ipython3",
   "version": "3.10.9"
  }
 },
 "nbformat": 4,
 "nbformat_minor": 5
}
