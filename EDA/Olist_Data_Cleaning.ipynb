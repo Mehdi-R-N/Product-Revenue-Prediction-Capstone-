{
 "cells": [
  {
   "cell_type": "markdown",
   "id": "baf9188c",
   "metadata": {},
   "source": [
    "# \"Data Cleaning: A Crucial Preparatory Step in Exploratory Data Analysis\""
   ]
  },
  {
   "cell_type": "markdown",
   "id": "67774e55",
   "metadata": {},
   "source": [
    "# Intruduction"
   ]
  },
  {
   "cell_type": "markdown",
   "id": "064aec29",
   "metadata": {},
   "source": [
    "In this segment of our Exploratory Data Analysis (EDA), we are embarking on a process that involves cleaning and performing feature engineering on our aggregated dataset derived from separate CSV files. Upon completion, we will generate a new, cleaned dataset to facilitate the continuation of our EDA.Initially, we will focus on identifying and handling missing and duplicated values within our dataset. Subsequently, we will proceed to engineer a new feature named \"Sales Revenue\", computed by multiplying the item quantity by the item price. Lastly, we aim to transform categorical variables, specifically 'State' and 'Payment Type', into numerical equivalents for better data manipulation and analysis."
   ]
  },
  {
   "cell_type": "markdown",
   "id": "c8e15942",
   "metadata": {},
   "source": [
    "In the first step, we import the necessary libraries."
   ]
  },
  {
   "cell_type": "code",
   "execution_count": 1,
   "id": "572e29d5",
   "metadata": {},
   "outputs": [],
   "source": [
    "# import the relevant libraries\n",
    "import numpy as np\n",
    "import pandas as pd\n",
    "from pandas import DataFrame\n",
    "from sklearn.preprocessing import LabelEncoder"
   ]
  },
  {
   "cell_type": "markdown",
   "id": "a83b1efd",
   "metadata": {},
   "source": [
    "## Import the Dataset"
   ]
  },
  {
   "cell_type": "markdown",
   "id": "17e1036a",
   "metadata": {},
   "source": [
    "Next, we will proceed to load our newly created dataset."
   ]
  },
  {
   "cell_type": "code",
   "execution_count": 2,
   "id": "b1d04949",
   "metadata": {},
   "outputs": [
    {
     "data": {
      "text/html": [
       "<div>\n",
       "<style scoped>\n",
       "    .dataframe tbody tr th:only-of-type {\n",
       "        vertical-align: middle;\n",
       "    }\n",
       "\n",
       "    .dataframe tbody tr th {\n",
       "        vertical-align: top;\n",
       "    }\n",
       "\n",
       "    .dataframe thead th {\n",
       "        text-align: right;\n",
       "    }\n",
       "</style>\n",
       "<table border=\"1\" class=\"dataframe\">\n",
       "  <thead>\n",
       "    <tr style=\"text-align: right;\">\n",
       "      <th></th>\n",
       "      <th>order_id</th>\n",
       "      <th>order_item_id</th>\n",
       "      <th>product_id</th>\n",
       "      <th>seller_id</th>\n",
       "      <th>shipping_limit_date</th>\n",
       "      <th>price</th>\n",
       "      <th>freight_value</th>\n",
       "      <th>payment_sequential</th>\n",
       "      <th>payment_type</th>\n",
       "      <th>payment_installments</th>\n",
       "      <th>...</th>\n",
       "      <th>product_name_lenght</th>\n",
       "      <th>product_description_lenght</th>\n",
       "      <th>product_photos_qty</th>\n",
       "      <th>product_weight_g</th>\n",
       "      <th>product_length_cm</th>\n",
       "      <th>product_height_cm</th>\n",
       "      <th>product_width_cm</th>\n",
       "      <th>seller_zip_code_prefix</th>\n",
       "      <th>seller_city</th>\n",
       "      <th>seller_state</th>\n",
       "    </tr>\n",
       "  </thead>\n",
       "  <tbody>\n",
       "    <tr>\n",
       "      <th>0</th>\n",
       "      <td>00010242fe8c5a6d1ba2dd792cb16214</td>\n",
       "      <td>1</td>\n",
       "      <td>4244733e06e7ecb4970a6e2683c13e61</td>\n",
       "      <td>48436dade18ac8b2bce089ec2a041202</td>\n",
       "      <td>2017-09-19 9:45</td>\n",
       "      <td>58.9</td>\n",
       "      <td>13.29</td>\n",
       "      <td>1</td>\n",
       "      <td>credit_card</td>\n",
       "      <td>2</td>\n",
       "      <td>...</td>\n",
       "      <td>58.0</td>\n",
       "      <td>598.0</td>\n",
       "      <td>4.0</td>\n",
       "      <td>650.0</td>\n",
       "      <td>28.0</td>\n",
       "      <td>9.0</td>\n",
       "      <td>14.0</td>\n",
       "      <td>27277</td>\n",
       "      <td>volta redonda</td>\n",
       "      <td>SP</td>\n",
       "    </tr>\n",
       "    <tr>\n",
       "      <th>1</th>\n",
       "      <td>130898c0987d1801452a8ed92a670612</td>\n",
       "      <td>1</td>\n",
       "      <td>4244733e06e7ecb4970a6e2683c13e61</td>\n",
       "      <td>48436dade18ac8b2bce089ec2a041202</td>\n",
       "      <td>2017-07-05 2:44</td>\n",
       "      <td>55.9</td>\n",
       "      <td>17.96</td>\n",
       "      <td>1</td>\n",
       "      <td>boleto</td>\n",
       "      <td>1</td>\n",
       "      <td>...</td>\n",
       "      <td>58.0</td>\n",
       "      <td>598.0</td>\n",
       "      <td>4.0</td>\n",
       "      <td>650.0</td>\n",
       "      <td>28.0</td>\n",
       "      <td>9.0</td>\n",
       "      <td>14.0</td>\n",
       "      <td>27277</td>\n",
       "      <td>volta redonda</td>\n",
       "      <td>SP</td>\n",
       "    </tr>\n",
       "    <tr>\n",
       "      <th>2</th>\n",
       "      <td>532ed5e14e24ae1f0d735b91524b98b9</td>\n",
       "      <td>1</td>\n",
       "      <td>4244733e06e7ecb4970a6e2683c13e61</td>\n",
       "      <td>48436dade18ac8b2bce089ec2a041202</td>\n",
       "      <td>2018-05-23 10:56</td>\n",
       "      <td>64.9</td>\n",
       "      <td>18.33</td>\n",
       "      <td>1</td>\n",
       "      <td>credit_card</td>\n",
       "      <td>2</td>\n",
       "      <td>...</td>\n",
       "      <td>58.0</td>\n",
       "      <td>598.0</td>\n",
       "      <td>4.0</td>\n",
       "      <td>650.0</td>\n",
       "      <td>28.0</td>\n",
       "      <td>9.0</td>\n",
       "      <td>14.0</td>\n",
       "      <td>27277</td>\n",
       "      <td>volta redonda</td>\n",
       "      <td>SP</td>\n",
       "    </tr>\n",
       "    <tr>\n",
       "      <th>3</th>\n",
       "      <td>6f8c31653edb8c83e1a739408b5ff750</td>\n",
       "      <td>1</td>\n",
       "      <td>4244733e06e7ecb4970a6e2683c13e61</td>\n",
       "      <td>48436dade18ac8b2bce089ec2a041202</td>\n",
       "      <td>2017-08-07 18:55</td>\n",
       "      <td>58.9</td>\n",
       "      <td>16.17</td>\n",
       "      <td>1</td>\n",
       "      <td>credit_card</td>\n",
       "      <td>3</td>\n",
       "      <td>...</td>\n",
       "      <td>58.0</td>\n",
       "      <td>598.0</td>\n",
       "      <td>4.0</td>\n",
       "      <td>650.0</td>\n",
       "      <td>28.0</td>\n",
       "      <td>9.0</td>\n",
       "      <td>14.0</td>\n",
       "      <td>27277</td>\n",
       "      <td>volta redonda</td>\n",
       "      <td>SP</td>\n",
       "    </tr>\n",
       "    <tr>\n",
       "      <th>4</th>\n",
       "      <td>7d19f4ef4d04461989632411b7e588b9</td>\n",
       "      <td>1</td>\n",
       "      <td>4244733e06e7ecb4970a6e2683c13e61</td>\n",
       "      <td>48436dade18ac8b2bce089ec2a041202</td>\n",
       "      <td>2017-08-16 22:05</td>\n",
       "      <td>58.9</td>\n",
       "      <td>13.29</td>\n",
       "      <td>1</td>\n",
       "      <td>credit_card</td>\n",
       "      <td>4</td>\n",
       "      <td>...</td>\n",
       "      <td>58.0</td>\n",
       "      <td>598.0</td>\n",
       "      <td>4.0</td>\n",
       "      <td>650.0</td>\n",
       "      <td>28.0</td>\n",
       "      <td>9.0</td>\n",
       "      <td>14.0</td>\n",
       "      <td>27277</td>\n",
       "      <td>volta redonda</td>\n",
       "      <td>SP</td>\n",
       "    </tr>\n",
       "  </tbody>\n",
       "</table>\n",
       "<p>5 rows × 39 columns</p>\n",
       "</div>"
      ],
      "text/plain": [
       "                           order_id  order_item_id  \\\n",
       "0  00010242fe8c5a6d1ba2dd792cb16214              1   \n",
       "1  130898c0987d1801452a8ed92a670612              1   \n",
       "2  532ed5e14e24ae1f0d735b91524b98b9              1   \n",
       "3  6f8c31653edb8c83e1a739408b5ff750              1   \n",
       "4  7d19f4ef4d04461989632411b7e588b9              1   \n",
       "\n",
       "                         product_id                         seller_id  \\\n",
       "0  4244733e06e7ecb4970a6e2683c13e61  48436dade18ac8b2bce089ec2a041202   \n",
       "1  4244733e06e7ecb4970a6e2683c13e61  48436dade18ac8b2bce089ec2a041202   \n",
       "2  4244733e06e7ecb4970a6e2683c13e61  48436dade18ac8b2bce089ec2a041202   \n",
       "3  4244733e06e7ecb4970a6e2683c13e61  48436dade18ac8b2bce089ec2a041202   \n",
       "4  4244733e06e7ecb4970a6e2683c13e61  48436dade18ac8b2bce089ec2a041202   \n",
       "\n",
       "  shipping_limit_date  price  freight_value  payment_sequential payment_type  \\\n",
       "0     2017-09-19 9:45   58.9          13.29                   1  credit_card   \n",
       "1     2017-07-05 2:44   55.9          17.96                   1       boleto   \n",
       "2    2018-05-23 10:56   64.9          18.33                   1  credit_card   \n",
       "3    2017-08-07 18:55   58.9          16.17                   1  credit_card   \n",
       "4    2017-08-16 22:05   58.9          13.29                   1  credit_card   \n",
       "\n",
       "   payment_installments  ...  product_name_lenght product_description_lenght  \\\n",
       "0                     2  ...                 58.0                      598.0   \n",
       "1                     1  ...                 58.0                      598.0   \n",
       "2                     2  ...                 58.0                      598.0   \n",
       "3                     3  ...                 58.0                      598.0   \n",
       "4                     4  ...                 58.0                      598.0   \n",
       "\n",
       "  product_photos_qty product_weight_g product_length_cm product_height_cm  \\\n",
       "0                4.0            650.0              28.0               9.0   \n",
       "1                4.0            650.0              28.0               9.0   \n",
       "2                4.0            650.0              28.0               9.0   \n",
       "3                4.0            650.0              28.0               9.0   \n",
       "4                4.0            650.0              28.0               9.0   \n",
       "\n",
       "  product_width_cm seller_zip_code_prefix    seller_city  seller_state  \n",
       "0             14.0                  27277  volta redonda            SP  \n",
       "1             14.0                  27277  volta redonda            SP  \n",
       "2             14.0                  27277  volta redonda            SP  \n",
       "3             14.0                  27277  volta redonda            SP  \n",
       "4             14.0                  27277  volta redonda            SP  \n",
       "\n",
       "[5 rows x 39 columns]"
      ]
     },
     "execution_count": 2,
     "metadata": {},
     "output_type": "execute_result"
    }
   ],
   "source": [
    "# Load the data \n",
    "df = pd.read_csv('Olist_CombinedData.csv')\n",
    "df. head()"
   ]
  },
  {
   "cell_type": "markdown",
   "id": "a500a760",
   "metadata": {},
   "source": [
    "Let's first take a look at the information about our dataset."
   ]
  },
  {
   "cell_type": "code",
   "execution_count": 3,
   "id": "7441d669",
   "metadata": {},
   "outputs": [
    {
     "name": "stdout",
     "output_type": "stream",
     "text": [
      "<class 'pandas.core.frame.DataFrame'>\n",
      "RangeIndex: 117329 entries, 0 to 117328\n",
      "Data columns (total 39 columns):\n",
      " #   Column                         Non-Null Count   Dtype  \n",
      "---  ------                         --------------   -----  \n",
      " 0   order_id                       117329 non-null  object \n",
      " 1   order_item_id                  117329 non-null  int64  \n",
      " 2   product_id                     117329 non-null  object \n",
      " 3   seller_id                      117329 non-null  object \n",
      " 4   shipping_limit_date            117329 non-null  object \n",
      " 5   price                          117329 non-null  float64\n",
      " 6   freight_value                  117329 non-null  float64\n",
      " 7   payment_sequential             117329 non-null  int64  \n",
      " 8   payment_type                   117329 non-null  object \n",
      " 9   payment_installments           117329 non-null  int64  \n",
      " 10  payment_value                  117329 non-null  float64\n",
      " 11  customer_id                    117329 non-null  object \n",
      " 12  order_status                   117329 non-null  object \n",
      " 13  order_purchase_timestamp       117329 non-null  object \n",
      " 14  order_approved_at              117314 non-null  object \n",
      " 15  order_delivered_carrier_date   116094 non-null  object \n",
      " 16  order_delivered_customer_date  114858 non-null  object \n",
      " 17  order_estimated_delivery_date  117329 non-null  object \n",
      " 18  review_id                      117329 non-null  object \n",
      " 19  review_score                   117329 non-null  int64  \n",
      " 20  review_comment_title           13892 non-null   object \n",
      " 21  review_comment_message         49679 non-null   object \n",
      " 22  review_creation_date           117329 non-null  object \n",
      " 23  review_answer_timestamp        117329 non-null  object \n",
      " 24  customer_unique_id(barcode)    117329 non-null  object \n",
      " 25  postal_code                    117329 non-null  int64  \n",
      " 26  city                           117329 non-null  object \n",
      " 27  state                          117329 non-null  object \n",
      " 28  product_category_name          115634 non-null  object \n",
      " 29  product_name_lenght            115634 non-null  float64\n",
      " 30  product_description_lenght     115634 non-null  float64\n",
      " 31  product_photos_qty             115634 non-null  float64\n",
      " 32  product_weight_g               117309 non-null  float64\n",
      " 33  product_length_cm              117309 non-null  float64\n",
      " 34  product_height_cm              117309 non-null  float64\n",
      " 35  product_width_cm               117309 non-null  float64\n",
      " 36  seller_zip_code_prefix         117329 non-null  int64  \n",
      " 37  seller_city                    117329 non-null  object \n",
      " 38  seller_state                   117329 non-null  object \n",
      "dtypes: float64(10), int64(6), object(23)\n",
      "memory usage: 34.9+ MB\n"
     ]
    }
   ],
   "source": [
    "df.info()"
   ]
  },
  {
   "cell_type": "markdown",
   "id": "c1df6668",
   "metadata": {},
   "source": [
    "The dataset contains 117,329 entries, indexed from 0 to 117,328. It encompasses a total of 39 columns, each of which holds data of various types."
   ]
  },
  {
   "cell_type": "markdown",
   "id": "b2ebdd8b",
   "metadata": {},
   "source": [
    "Refine the dataset by removing the columns that are not pertinent to our analysis."
   ]
  },
  {
   "cell_type": "code",
   "execution_count": 4,
   "id": "a6f9d6e3",
   "metadata": {},
   "outputs": [
    {
     "data": {
      "text/html": [
       "<div>\n",
       "<style scoped>\n",
       "    .dataframe tbody tr th:only-of-type {\n",
       "        vertical-align: middle;\n",
       "    }\n",
       "\n",
       "    .dataframe tbody tr th {\n",
       "        vertical-align: top;\n",
       "    }\n",
       "\n",
       "    .dataframe thead th {\n",
       "        text-align: right;\n",
       "    }\n",
       "</style>\n",
       "<table border=\"1\" class=\"dataframe\">\n",
       "  <thead>\n",
       "    <tr style=\"text-align: right;\">\n",
       "      <th></th>\n",
       "      <th>order_id</th>\n",
       "      <th>order_item_id</th>\n",
       "      <th>product_id</th>\n",
       "      <th>seller_id</th>\n",
       "      <th>price</th>\n",
       "      <th>freight_value</th>\n",
       "      <th>payment_sequential</th>\n",
       "      <th>payment_type</th>\n",
       "      <th>payment_installments</th>\n",
       "      <th>payment_value</th>\n",
       "      <th>customer_id</th>\n",
       "      <th>order_purchase_timestamp</th>\n",
       "      <th>review_score</th>\n",
       "      <th>postal_code</th>\n",
       "      <th>state</th>\n",
       "      <th>product_category_name</th>\n",
       "      <th>product_weight_g</th>\n",
       "      <th>product_length_cm</th>\n",
       "      <th>product_height_cm</th>\n",
       "      <th>product_width_cm</th>\n",
       "    </tr>\n",
       "  </thead>\n",
       "  <tbody>\n",
       "    <tr>\n",
       "      <th>0</th>\n",
       "      <td>00010242fe8c5a6d1ba2dd792cb16214</td>\n",
       "      <td>1</td>\n",
       "      <td>4244733e06e7ecb4970a6e2683c13e61</td>\n",
       "      <td>48436dade18ac8b2bce089ec2a041202</td>\n",
       "      <td>58.9</td>\n",
       "      <td>13.29</td>\n",
       "      <td>1</td>\n",
       "      <td>credit_card</td>\n",
       "      <td>2</td>\n",
       "      <td>72.19</td>\n",
       "      <td>3ce436f183e68e07877b285a838db11a</td>\n",
       "      <td>2017-09-13 8:59</td>\n",
       "      <td>5</td>\n",
       "      <td>28013</td>\n",
       "      <td>RJ</td>\n",
       "      <td>cool_stuff</td>\n",
       "      <td>650.0</td>\n",
       "      <td>28.0</td>\n",
       "      <td>9.0</td>\n",
       "      <td>14.0</td>\n",
       "    </tr>\n",
       "    <tr>\n",
       "      <th>1</th>\n",
       "      <td>130898c0987d1801452a8ed92a670612</td>\n",
       "      <td>1</td>\n",
       "      <td>4244733e06e7ecb4970a6e2683c13e61</td>\n",
       "      <td>48436dade18ac8b2bce089ec2a041202</td>\n",
       "      <td>55.9</td>\n",
       "      <td>17.96</td>\n",
       "      <td>1</td>\n",
       "      <td>boleto</td>\n",
       "      <td>1</td>\n",
       "      <td>73.86</td>\n",
       "      <td>e6eecc5a77de221464d1c4eaff0a9b64</td>\n",
       "      <td>2017-06-28 11:52</td>\n",
       "      <td>5</td>\n",
       "      <td>75800</td>\n",
       "      <td>GO</td>\n",
       "      <td>cool_stuff</td>\n",
       "      <td>650.0</td>\n",
       "      <td>28.0</td>\n",
       "      <td>9.0</td>\n",
       "      <td>14.0</td>\n",
       "    </tr>\n",
       "    <tr>\n",
       "      <th>2</th>\n",
       "      <td>532ed5e14e24ae1f0d735b91524b98b9</td>\n",
       "      <td>1</td>\n",
       "      <td>4244733e06e7ecb4970a6e2683c13e61</td>\n",
       "      <td>48436dade18ac8b2bce089ec2a041202</td>\n",
       "      <td>64.9</td>\n",
       "      <td>18.33</td>\n",
       "      <td>1</td>\n",
       "      <td>credit_card</td>\n",
       "      <td>2</td>\n",
       "      <td>83.23</td>\n",
       "      <td>4ef55bf80f711b372afebcb7c715344a</td>\n",
       "      <td>2018-05-18 10:25</td>\n",
       "      <td>4</td>\n",
       "      <td>30720</td>\n",
       "      <td>MG</td>\n",
       "      <td>cool_stuff</td>\n",
       "      <td>650.0</td>\n",
       "      <td>28.0</td>\n",
       "      <td>9.0</td>\n",
       "      <td>14.0</td>\n",
       "    </tr>\n",
       "    <tr>\n",
       "      <th>3</th>\n",
       "      <td>6f8c31653edb8c83e1a739408b5ff750</td>\n",
       "      <td>1</td>\n",
       "      <td>4244733e06e7ecb4970a6e2683c13e61</td>\n",
       "      <td>48436dade18ac8b2bce089ec2a041202</td>\n",
       "      <td>58.9</td>\n",
       "      <td>16.17</td>\n",
       "      <td>1</td>\n",
       "      <td>credit_card</td>\n",
       "      <td>3</td>\n",
       "      <td>75.07</td>\n",
       "      <td>30407a72ad8b3f4df4d15369126b20c9</td>\n",
       "      <td>2017-08-01 18:38</td>\n",
       "      <td>5</td>\n",
       "      <td>83070</td>\n",
       "      <td>PR</td>\n",
       "      <td>cool_stuff</td>\n",
       "      <td>650.0</td>\n",
       "      <td>28.0</td>\n",
       "      <td>9.0</td>\n",
       "      <td>14.0</td>\n",
       "    </tr>\n",
       "    <tr>\n",
       "      <th>4</th>\n",
       "      <td>7d19f4ef4d04461989632411b7e588b9</td>\n",
       "      <td>1</td>\n",
       "      <td>4244733e06e7ecb4970a6e2683c13e61</td>\n",
       "      <td>48436dade18ac8b2bce089ec2a041202</td>\n",
       "      <td>58.9</td>\n",
       "      <td>13.29</td>\n",
       "      <td>1</td>\n",
       "      <td>credit_card</td>\n",
       "      <td>4</td>\n",
       "      <td>72.19</td>\n",
       "      <td>91a792fef70ecd8cc69d3c7feb3d12da</td>\n",
       "      <td>2017-08-10 21:48</td>\n",
       "      <td>5</td>\n",
       "      <td>36400</td>\n",
       "      <td>MG</td>\n",
       "      <td>cool_stuff</td>\n",
       "      <td>650.0</td>\n",
       "      <td>28.0</td>\n",
       "      <td>9.0</td>\n",
       "      <td>14.0</td>\n",
       "    </tr>\n",
       "  </tbody>\n",
       "</table>\n",
       "</div>"
      ],
      "text/plain": [
       "                           order_id  order_item_id  \\\n",
       "0  00010242fe8c5a6d1ba2dd792cb16214              1   \n",
       "1  130898c0987d1801452a8ed92a670612              1   \n",
       "2  532ed5e14e24ae1f0d735b91524b98b9              1   \n",
       "3  6f8c31653edb8c83e1a739408b5ff750              1   \n",
       "4  7d19f4ef4d04461989632411b7e588b9              1   \n",
       "\n",
       "                         product_id                         seller_id  price  \\\n",
       "0  4244733e06e7ecb4970a6e2683c13e61  48436dade18ac8b2bce089ec2a041202   58.9   \n",
       "1  4244733e06e7ecb4970a6e2683c13e61  48436dade18ac8b2bce089ec2a041202   55.9   \n",
       "2  4244733e06e7ecb4970a6e2683c13e61  48436dade18ac8b2bce089ec2a041202   64.9   \n",
       "3  4244733e06e7ecb4970a6e2683c13e61  48436dade18ac8b2bce089ec2a041202   58.9   \n",
       "4  4244733e06e7ecb4970a6e2683c13e61  48436dade18ac8b2bce089ec2a041202   58.9   \n",
       "\n",
       "   freight_value  payment_sequential payment_type  payment_installments  \\\n",
       "0          13.29                   1  credit_card                     2   \n",
       "1          17.96                   1       boleto                     1   \n",
       "2          18.33                   1  credit_card                     2   \n",
       "3          16.17                   1  credit_card                     3   \n",
       "4          13.29                   1  credit_card                     4   \n",
       "\n",
       "   payment_value                       customer_id order_purchase_timestamp  \\\n",
       "0          72.19  3ce436f183e68e07877b285a838db11a          2017-09-13 8:59   \n",
       "1          73.86  e6eecc5a77de221464d1c4eaff0a9b64         2017-06-28 11:52   \n",
       "2          83.23  4ef55bf80f711b372afebcb7c715344a         2018-05-18 10:25   \n",
       "3          75.07  30407a72ad8b3f4df4d15369126b20c9         2017-08-01 18:38   \n",
       "4          72.19  91a792fef70ecd8cc69d3c7feb3d12da         2017-08-10 21:48   \n",
       "\n",
       "   review_score  postal_code state product_category_name  product_weight_g  \\\n",
       "0             5        28013    RJ            cool_stuff             650.0   \n",
       "1             5        75800    GO            cool_stuff             650.0   \n",
       "2             4        30720    MG            cool_stuff             650.0   \n",
       "3             5        83070    PR            cool_stuff             650.0   \n",
       "4             5        36400    MG            cool_stuff             650.0   \n",
       "\n",
       "   product_length_cm  product_height_cm  product_width_cm  \n",
       "0               28.0                9.0              14.0  \n",
       "1               28.0                9.0              14.0  \n",
       "2               28.0                9.0              14.0  \n",
       "3               28.0                9.0              14.0  \n",
       "4               28.0                9.0              14.0  "
      ]
     },
     "execution_count": 4,
     "metadata": {},
     "output_type": "execute_result"
    }
   ],
   "source": [
    "# Narrowing the dataset\n",
    "df=df.drop (['shipping_limit_date','product_name_lenght',\n",
    "          'product_description_lenght','product_photos_qty','order_status','order_approved_at','order_delivered_carrier_date', 'order_delivered_customer_date',\n",
    "          'order_estimated_delivery_date','review_comment_title','review_comment_message',\n",
    "          'review_creation_date','review_answer_timestamp','customer_unique_id(barcode)','seller_city','review_id','seller_zip_code_prefix','city','seller_state'], axis=1)\n",
    "df.head()"
   ]
  },
  {
   "cell_type": "markdown",
   "id": "005444ea",
   "metadata": {},
   "source": [
    "## Duplicate and Null Value Handeling"
   ]
  },
  {
   "cell_type": "markdown",
   "id": "6c6b38b0",
   "metadata": {},
   "source": [
    "Next, we will check for any duplicate rows in our dataset. If any are found, we will proceed to eliminate them, retaining only one instance."
   ]
  },
  {
   "cell_type": "code",
   "execution_count": 5,
   "id": "0f061421",
   "metadata": {},
   "outputs": [
    {
     "name": "stdout",
     "output_type": "stream",
     "text": [
      "Total number of duplicated rows: 419\n",
      "Total number of duplicated rows: 0\n"
     ]
    }
   ],
   "source": [
    "# Count the number of duplicated rows\n",
    "num_duplicates = df.duplicated().sum()\n",
    "\n",
    "# Display the total number of duplicated rows\n",
    "print(\"Total number of duplicated rows:\", num_duplicates)\n",
    "\n",
    "# Remove duplicate rows\n",
    "df = df.drop_duplicates()\n",
    "\n",
    "# Count the number of duplicated rows\n",
    "num_duplicates = df.duplicated().sum()\n",
    "\n",
    "# Display the total number of duplicated rows\n",
    "print(\"Total number of duplicated rows:\", num_duplicates)"
   ]
  },
  {
   "cell_type": "markdown",
   "id": "0acbcf48",
   "metadata": {},
   "source": [
    "We initially found 271 duplicate rows in our dataset. We then proceeded to remove these duplicates using the drop_duplicates() function. After retesting with the df.duplicated().sum() command, it confirmed that we now have no duplicate rows in our dataset."
   ]
  },
  {
   "cell_type": "markdown",
   "id": "cb6b6462",
   "metadata": {},
   "source": [
    "Now, we will proceed to check for any null values within the dataset."
   ]
  },
  {
   "cell_type": "code",
   "execution_count": 6,
   "id": "c93281ba",
   "metadata": {},
   "outputs": [
    {
     "data": {
      "text/plain": [
       "1769"
      ]
     },
     "execution_count": 6,
     "metadata": {},
     "output_type": "execute_result"
    }
   ],
   "source": [
    "df.isnull().sum().sum()"
   ]
  },
  {
   "cell_type": "code",
   "execution_count": 7,
   "id": "f41e6ef3",
   "metadata": {},
   "outputs": [
    {
     "data": {
      "text/plain": [
       "order_id                    0.000000\n",
       "order_item_id               0.000000\n",
       "product_id                  0.000000\n",
       "seller_id                   0.000000\n",
       "price                       0.000000\n",
       "freight_value               0.000000\n",
       "payment_sequential          0.000000\n",
       "payment_type                0.000000\n",
       "payment_installments        0.000000\n",
       "payment_value               0.000000\n",
       "customer_id                 0.000000\n",
       "order_purchase_timestamp    0.000000\n",
       "review_score                0.000000\n",
       "postal_code                 0.000000\n",
       "state                       0.000000\n",
       "product_category_name       1.444701\n",
       "product_weight_g            0.017107\n",
       "product_length_cm           0.017107\n",
       "product_height_cm           0.017107\n",
       "product_width_cm            0.017107\n",
       "dtype: float64"
      ]
     },
     "execution_count": 7,
     "metadata": {},
     "output_type": "execute_result"
    }
   ],
   "source": [
    "df.isna().sum()/df.shape[0]*100"
   ]
  },
  {
   "cell_type": "markdown",
   "id": "55bcc611",
   "metadata": {},
   "source": [
    "We have detected a total of 1769 null values in our dataset. The columns 'product_category_name', 'product_weight_g', 'product_length_cm', 'product_height_cm', and 'product_width_cm' have relatively low percentages of null values, ranging from 0.017% to 1.44%. Given their low impact, we have decided to drop these null values."
   ]
  },
  {
   "cell_type": "code",
   "execution_count": 8,
   "id": "2c25c4f6",
   "metadata": {},
   "outputs": [],
   "source": [
    "# Drop rows in 'df' with NaN in specific columns.\n",
    "df =df.dropna(subset=['product_category_name','product_weight_g','product_length_cm','product_height_cm','product_width_cm'])"
   ]
  },
  {
   "cell_type": "markdown",
   "id": "da693381",
   "metadata": {},
   "source": [
    "Upon rechecking for null values in our dataset, we can now confirm that there are no more null entries remaining. This successfully concludes our data cleaning process in terms of handling missing values."
   ]
  },
  {
   "cell_type": "code",
   "execution_count": 9,
   "id": "7553aceb",
   "metadata": {},
   "outputs": [
    {
     "data": {
      "text/plain": [
       "order_id                    0.0\n",
       "order_item_id               0.0\n",
       "product_id                  0.0\n",
       "seller_id                   0.0\n",
       "price                       0.0\n",
       "freight_value               0.0\n",
       "payment_sequential          0.0\n",
       "payment_type                0.0\n",
       "payment_installments        0.0\n",
       "payment_value               0.0\n",
       "customer_id                 0.0\n",
       "order_purchase_timestamp    0.0\n",
       "review_score                0.0\n",
       "postal_code                 0.0\n",
       "state                       0.0\n",
       "product_category_name       0.0\n",
       "product_weight_g            0.0\n",
       "product_length_cm           0.0\n",
       "product_height_cm           0.0\n",
       "product_width_cm            0.0\n",
       "dtype: float64"
      ]
     },
     "execution_count": 9,
     "metadata": {},
     "output_type": "execute_result"
    }
   ],
   "source": [
    "df.isna().sum()/df.shape[0]*100"
   ]
  },
  {
   "cell_type": "markdown",
   "id": "1c1fbb7f",
   "metadata": {},
   "source": [
    "Given that our 'product_category_name' entries are in a foreign language, and we possess a translated list of these categories in English, we will map the foreign language categories to their English counterparts. We will then use the 'replace' function to substitute the foreign language category names with the corresponding English ones in our dataset."
   ]
  },
  {
   "cell_type": "code",
   "execution_count": 10,
   "id": "ae06a0af",
   "metadata": {},
   "outputs": [],
   "source": [
    "# Create a dictionary 'name_mapping' to replace the product_category_names. \n",
    "name_mapping = {\n",
    "    'beleza_saude': 'health_beauty',\n",
    "    'informatica_acessorios': 'computers_accessories',\n",
    "    'automotivo': 'auto',\n",
    "    'cama_mesa_banho': 'bed_bath_table',\n",
    "    'moveis_decoracao': 'furniture_decor',\n",
    "    'esporte_lazer': 'sports_leisure',\n",
    "    'perfumaria': 'perfumery',\n",
    "    'utilidades_domesticas': 'housewares',\n",
    "    'telefonia': 'telephony',\n",
    "    'relogios_presentes': 'watches_gifts',\n",
    "    'alimentos_bebidas': 'food_drink',\n",
    "    'bebes': 'baby',\n",
    "    'papelaria': 'stationery',\n",
    "    'tablets_impressao_imagem': 'tablets_printing_image',\n",
    "    'brinquedos': 'toys',\n",
    "    'telefonia_fixa': 'fixed_telephony',\n",
    "    'ferramentas_jardim': 'garden_tools',\n",
    "    'fashion_bolsas_e_acessorios': 'fashion_bags_accessories',\n",
    "    'eletroportateis': 'small_appliances',\n",
    "    'consoles_games': 'consoles_games',\n",
    "    'audio': 'audio',\n",
    "    'fashion_calcados': 'fashion_shoes',\n",
    "    'cool_stuff': 'cool_stuff',\n",
    "    'malas_acessorios': 'luggage_accessories',\n",
    "    'climatizacao': 'air_conditioning',\n",
    "    'construcao_ferramentas_construcao': 'construction_tools_construction',\n",
    "    'moveis_cozinha_area_de_servico_jantar_e_jardim': 'kitchen_dining_laundry_garden_furniture',\n",
    "    'construcao_ferramentas_jardim': 'costruction_tools_garden',\n",
    "    'fashion_roupa_masculina': 'fashion_male_clothing',\n",
    "    'pet_shop': 'pet_shop',\n",
    "    'moveis_escritorio': 'office_furniture',\n",
    "    'market_place': 'market_place',\n",
    "    'eletronicos': 'electronics',\n",
    "    'eletrodomesticos': 'home_appliances',\n",
    "    'artigos_de_festas': 'party_supplies',\n",
    "    'casa_conforto': 'home_confort',\n",
    "    'construcao_ferramentas_ferramentas': 'costruction_tools_tools',\n",
    "    'agro_industria_e_comercio': 'agro_industry_and_commerce',\n",
    "    'moveis_colchao_e_estofado': 'furniture_mattress_and_upholstery',\n",
    "    'livros_tecnicos': 'books_technical',\n",
    "    'casa_construcao': 'home_construction',\n",
    "    'instrumentos_musicais': 'musical_instruments',\n",
    "    'moveis_sala': 'furniture_living_room',\n",
    "    'construcao_ferramentas_iluminacao': 'construction_tools_lights',\n",
    "    'industria_comercio_e_negocios': 'industry_commerce_and_business',\n",
    "    'alimentos': 'food',\n",
    "    'artes': 'art',\n",
    "    'moveis_quarto': 'furniture_bedroom',\n",
    "    'livros_interesse_geral': 'books_general_interest',\n",
    "    'construcao_ferramentas_seguranca': 'construction_tools_safety',\n",
    "    'fashion_underwear_e_moda_praia': 'fashion_underwear_beach',\n",
    "    'fashion_esporte': 'fashion_sport',\n",
    "    'sinalizacao_e_seguranca': 'signaling_and_security',\n",
    "    'pcs': 'computers',\n",
    "    'artigos_de_natal': 'christmas_supplies',\n",
    "    'fashion_roupa_feminina': 'fashio_female_clothing',\n",
    "    'eletrodomesticos_2': 'home_appliances_2',\n",
    "    'livros_importados': 'books_imported',\n",
    "    'bebidas': 'drinks',\n",
    "    'cine_foto': 'cine_photo',\n",
    "    'la_cuisine': 'la_cuisine',\n",
    "    'musica': 'music',\n",
    "    'casa_conforto_2': 'home_comfort_2',\n",
    "    'portateis_casa_forno_e_cafe': 'small_appliances_home_oven_and_coffee',\n",
    "    'cds_dvds_musicais': 'cds_dvds_musicals',\n",
    "    'dvds_blu_ray': 'dvds_blu_ray',\n",
    "    'flores': 'flowers',\n",
    "    'artes_e_artesanato': 'arts_and_craftmanship',\n",
    "    'fraldas_higiene': 'diapers_and_hygiene',\n",
    "    'fashion_roupa_infanto_juvenil': 'fashion_childrens_clothes',\n",
    "    'seguros_e_servicos': 'security_and_services',\n",
    "}\n",
    "df['product_category_name'] = df['product_category_name'].replace(name_mapping)"
   ]
  },
  {
   "cell_type": "markdown",
   "id": "a9e592e5",
   "metadata": {},
   "source": [
    "## Feature Engineering"
   ]
  },
  {
   "cell_type": "markdown",
   "id": "284d6ffc",
   "metadata": {},
   "source": [
    "In this step, we aim to transform our 'payment_type' and 'state' variables into numerical values. For this task, we will employ the LabelEncoder class from the sklearn.preprocessing module. The LabelEncoder will assign each unique category in these columns a distinct numerical value, thereby allowing for a more streamlined analysis."
   ]
  },
  {
   "cell_type": "code",
   "execution_count": 11,
   "id": "5fe76c64",
   "metadata": {},
   "outputs": [],
   "source": [
    "# Initialize a LabelEncoder\n",
    "le = LabelEncoder()\n",
    "\n",
    "# Convert the 'payment_type' column into numeric\n",
    "df['payment_type'] = le.fit_transform(df['payment_type'])\n",
    "\n",
    "# Convert the 'state' column into numeric\n",
    "df['state'] = le.fit_transform(df['state'])"
   ]
  },
  {
   "cell_type": "markdown",
   "id": "15fd223b",
   "metadata": {},
   "source": [
    "In our next move, we will perform feature engineering on our data frame. We will create a new feature named 'sales_revenue'. This new feature will be calculated using two existing features in our dataset: 'order_item_id' and 'price'.\n",
    "By multiplying these two features together for each row in our dataframe, we can calculate the total sales revenue per order. This will be stored in our new 'sales_revenue' column."
   ]
  },
  {
   "cell_type": "code",
   "execution_count": 12,
   "id": "978f4f52",
   "metadata": {},
   "outputs": [],
   "source": [
    "# Create new feature 'sales_revenue' of 'order_item_id' and 'price'.\n",
    "df['sales_revenue'] = df['order_item_id'] * df['price']"
   ]
  },
  {
   "cell_type": "markdown",
   "id": "2af50b87",
   "metadata": {},
   "source": [
    "Lastly, we are enhancing the intuitiveness of our dataframe by renaming certain columns. Specifically, we are changing 'order_item_id' to 'item' and 'price' to 'item_price'. These adjustments better represent the information contained within these columns: 'item' indicates the quantity of each item in an order, while 'item_price' represents the price per item. These modifications will improve clarity and ease future analysis or model building tasks. Finally, we will save our cleaned and refined dataframe as a new CSV file in our directory."
   ]
  },
  {
   "cell_type": "code",
   "execution_count": 13,
   "id": "63c830e9",
   "metadata": {},
   "outputs": [],
   "source": [
    "# Rename multiple columns\n",
    "df.rename(columns={'order_item_id': 'item', 'price': 'item_price'}, inplace=True)"
   ]
  },
  {
   "cell_type": "markdown",
   "id": "0e9f1cd5",
   "metadata": {},
   "source": [
    "Lastly, the processed data frame is saved and exported as a CSV file to the designated location."
   ]
  },
  {
   "cell_type": "code",
   "execution_count": 14,
   "id": "a81c1fce",
   "metadata": {},
   "outputs": [],
   "source": [
    "# Save the merged and cleaned data to a new file for use it for further analysis\n",
    "df.to_csv('Olist_clean_data.csv', index=False)"
   ]
  },
  {
   "cell_type": "markdown",
   "id": "46ad1fd0",
   "metadata": {},
   "source": [
    "# Conclusion"
   ]
  },
  {
   "cell_type": "markdown",
   "id": "aa8bb346",
   "metadata": {},
   "source": [
    "In conclusion, this notebook began with importing the dataset, followed by a data cleaning process where unnecessary columns were removed. We also handled duplicate and null values, eliminating them to refine our dataset. Furthermore, we performed feature engineering to enhance the quality of our dataset, thus preparing it for more accurate and efficient modeling. Finally, the cleaned and enriched dataset was saved as a new CSV file in our directory."
   ]
  }
 ],
 "metadata": {
  "kernelspec": {
   "display_name": "Python 3 (ipykernel)",
   "language": "python",
   "name": "python3"
  },
  "language_info": {
   "codemirror_mode": {
    "name": "ipython",
    "version": 3
   },
   "file_extension": ".py",
   "mimetype": "text/x-python",
   "name": "python",
   "nbconvert_exporter": "python",
   "pygments_lexer": "ipython3",
   "version": "3.10.9"
  }
 },
 "nbformat": 4,
 "nbformat_minor": 5
}
